{
 "cells": [
  {
   "cell_type": "code",
   "execution_count": 1,
   "id": "be208ee8-4b1a-406d-a5a9-a5c8f928211b",
   "metadata": {
    "tags": []
   },
   "outputs": [],
   "source": [
    "from gensim.models import KeyedVectors\n",
    "import numpy as np\n",
    "import pandas as pd\n",
    "from itertools import combinations"
   ]
  },
  {
   "cell_type": "markdown",
   "id": "8e594b20-feaa-4969-a05b-5760877e6925",
   "metadata": {},
   "source": [
    "https://stackoverflow.com/questions/21979970/how-to-use-word2vec-to-calculate-the-similarity-distance-by-giving-2-words\n",
    "\n",
    "https://radimrehurek.com/gensim/auto_examples/index.html#documentation\n",
    "\n",
    "https://fasttext.cc/docs/en/english-vectors.html\n",
    "\n",
    "https://hannibunny.github.io/nlpbook/05representations/01WordEmbeddingImplementation.html\n",
    "\n",
    "https://datascience.stackexchange.com/questions/12872/how-can-i-get-a-measure-of-the-semantic-similarity-of-words"
   ]
  },
  {
   "cell_type": "markdown",
   "id": "6cfcf180-3ea5-4438-8ce9-d0d6e12e7f7a",
   "metadata": {},
   "source": [
    "There are 63,063,000 possible Connections combos. Using word vector spaces and information gained from guessing, we can find the 1 correct combination."
   ]
  },
  {
   "cell_type": "code",
   "execution_count": 2,
   "id": "3355e352-4338-46fb-b6f9-219f4b23f272",
   "metadata": {
    "tags": []
   },
   "outputs": [
    {
     "name": "stdout",
     "output_type": "stream",
     "text": [
      "CPU times: user 2min 7s, sys: 4.1 s, total: 2min 11s\n",
      "Wall time: 2min 11s\n"
     ]
    }
   ],
   "source": [
    "%%time\n",
    "model = KeyedVectors.load_word2vec_format('../crawl-300d-2M.vec')"
   ]
  },
  {
   "cell_type": "code",
   "execution_count": 3,
   "id": "0068408b-bc53-4b9f-bfc9-1ad55afa44bf",
   "metadata": {
    "tags": []
   },
   "outputs": [],
   "source": [
    "today = ['handsome', 'hippo', 'in', 'charge',\n",
    "        'fine', 'icon', 'popular', 'legend',\n",
    "        'hot', 'character', 'lipid', 'levy',\n",
    "        'symbol', 'big', 'assess', 'glyph']"
   ]
  },
  {
   "cell_type": "code",
   "execution_count": 6,
   "id": "b430bc7d-b748-4f87-b3fe-85fc76ac8845",
   "metadata": {
    "tags": []
   },
   "outputs": [],
   "source": [
    "def pairwise_distance(input_words):\n",
    "    \"\"\"\n",
    "    Takes a list of words and outputs the pairwise cosine distances between them\n",
    "    Input: list of words\n",
    "    Output: dataframe of pairwise values, index is the words and Distance:[(1 & i), (2 & i), ..., (n & i)] for i in n\n",
    "    \"\"\"\n",
    "    distances = []\n",
    "    pairs = pd.MultiIndex.from_product([input_words, input_words])\n",
    "    for i in range(len(pairs)):\n",
    "        dis = 1 - model.similarity(pairs[i][0], pairs[i][1])\n",
    "        distances.append(dis)\n",
    "        \n",
    "    return pd.DataFrame({'Distance': distances}, index=pairs)"
   ]
  },
  {
   "cell_type": "code",
   "execution_count": 7,
   "id": "0358dbe5-3f5b-4a04-a015-5abc6f63783f",
   "metadata": {
    "tags": []
   },
   "outputs": [
    {
     "data": {
      "text/html": [
       "<div>\n",
       "<style scoped>\n",
       "    .dataframe tbody tr th:only-of-type {\n",
       "        vertical-align: middle;\n",
       "    }\n",
       "\n",
       "    .dataframe tbody tr th {\n",
       "        vertical-align: top;\n",
       "    }\n",
       "\n",
       "    .dataframe thead th {\n",
       "        text-align: right;\n",
       "    }\n",
       "</style>\n",
       "<table border=\"1\" class=\"dataframe\">\n",
       "  <thead>\n",
       "    <tr style=\"text-align: right;\">\n",
       "      <th></th>\n",
       "      <th></th>\n",
       "      <th>Distance</th>\n",
       "    </tr>\n",
       "  </thead>\n",
       "  <tbody>\n",
       "    <tr>\n",
       "      <th rowspan=\"5\" valign=\"top\">handsome</th>\n",
       "      <th>handsome</th>\n",
       "      <td>0.000000</td>\n",
       "    </tr>\n",
       "    <tr>\n",
       "      <th>hippo</th>\n",
       "      <td>0.834208</td>\n",
       "    </tr>\n",
       "    <tr>\n",
       "      <th>in</th>\n",
       "      <td>0.944859</td>\n",
       "    </tr>\n",
       "    <tr>\n",
       "      <th>charge</th>\n",
       "      <td>0.883833</td>\n",
       "    </tr>\n",
       "    <tr>\n",
       "      <th>fine</th>\n",
       "      <td>0.682683</td>\n",
       "    </tr>\n",
       "    <tr>\n",
       "      <th>...</th>\n",
       "      <th>...</th>\n",
       "      <td>...</td>\n",
       "    </tr>\n",
       "    <tr>\n",
       "      <th rowspan=\"5\" valign=\"top\">glyph</th>\n",
       "      <th>levy</th>\n",
       "      <td>0.920599</td>\n",
       "    </tr>\n",
       "    <tr>\n",
       "      <th>symbol</th>\n",
       "      <td>0.594208</td>\n",
       "    </tr>\n",
       "    <tr>\n",
       "      <th>big</th>\n",
       "      <td>0.920223</td>\n",
       "    </tr>\n",
       "    <tr>\n",
       "      <th>assess</th>\n",
       "      <td>0.942981</td>\n",
       "    </tr>\n",
       "    <tr>\n",
       "      <th>glyph</th>\n",
       "      <td>0.000000</td>\n",
       "    </tr>\n",
       "  </tbody>\n",
       "</table>\n",
       "<p>256 rows × 1 columns</p>\n",
       "</div>"
      ],
      "text/plain": [
       "                   Distance\n",
       "handsome handsome  0.000000\n",
       "         hippo     0.834208\n",
       "         in        0.944859\n",
       "         charge    0.883833\n",
       "         fine      0.682683\n",
       "...                     ...\n",
       "glyph    levy      0.920599\n",
       "         symbol    0.594208\n",
       "         big       0.920223\n",
       "         assess    0.942981\n",
       "         glyph     0.000000\n",
       "\n",
       "[256 rows x 1 columns]"
      ]
     },
     "execution_count": 7,
     "metadata": {},
     "output_type": "execute_result"
    }
   ],
   "source": [
    "pairwise_distance(today)"
   ]
  }
 ],
 "metadata": {
  "kernelspec": {
   "display_name": "Python 3 (ipykernel)",
   "language": "python",
   "name": "python3"
  },
  "language_info": {
   "codemirror_mode": {
    "name": "ipython",
    "version": 3
   },
   "file_extension": ".py",
   "mimetype": "text/x-python",
   "name": "python",
   "nbconvert_exporter": "python",
   "pygments_lexer": "ipython3",
   "version": "3.11.4"
  }
 },
 "nbformat": 4,
 "nbformat_minor": 5
}
