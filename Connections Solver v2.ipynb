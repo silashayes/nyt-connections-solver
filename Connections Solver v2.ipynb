{
 "cells": [
  {
   "cell_type": "code",
   "execution_count": 1,
   "id": "be208ee8-4b1a-406d-a5a9-a5c8f928211b",
   "metadata": {
    "tags": []
   },
   "outputs": [],
   "source": [
    "from gensim.models import KeyedVectors\n",
    "import numpy as np\n",
    "import pandas as pd\n",
    "from itertools import combinations"
   ]
  },
  {
   "cell_type": "markdown",
   "id": "8e594b20-feaa-4969-a05b-5760877e6925",
   "metadata": {},
   "source": [
    "https://stackoverflow.com/questions/21979970/how-to-use-word2vec-to-calculate-the-similarity-distance-by-giving-2-words\n",
    "\n",
    "https://radimrehurek.com/gensim/auto_examples/index.html#documentation\n",
    "\n",
    "https://fasttext.cc/docs/en/english-vectors.html\n",
    "\n",
    "https://hannibunny.github.io/nlpbook/05representations/01WordEmbeddingImplementation.html\n",
    "\n",
    "https://datascience.stackexchange.com/questions/12872/how-can-i-get-a-measure-of-the-semantic-similarity-of-words"
   ]
  },
  {
   "cell_type": "markdown",
   "id": "6cfcf180-3ea5-4438-8ce9-d0d6e12e7f7a",
   "metadata": {},
   "source": [
    "There are 63,063,000 possible Connections combos. Using word vector spaces and information gained from guessing, we can find the 1 correct combination."
   ]
  },
  {
   "cell_type": "code",
   "execution_count": 2,
   "id": "3355e352-4338-46fb-b6f9-219f4b23f272",
   "metadata": {
    "tags": []
   },
   "outputs": [
    {
     "name": "stdout",
     "output_type": "stream",
     "text": [
      "CPU times: user 2min 6s, sys: 3.25 s, total: 2min 9s\n",
      "Wall time: 2min 9s\n"
     ]
    }
   ],
   "source": [
    "%%time\n",
    "model = KeyedVectors.load_word2vec_format('../crawl-300d-2M.vec')"
   ]
  },
  {
   "cell_type": "code",
   "execution_count": 5,
   "id": "0068408b-bc53-4b9f-bfc9-1ad55afa44bf",
   "metadata": {
    "tags": []
   },
   "outputs": [],
   "source": [
    "today = ['handsome', 'hippo', 'in', 'charge',\n",
    "        'fine', 'icon', 'popular', 'legend',\n",
    "        'hot', 'character', 'lipid', 'levy',\n",
    "        'symbol', 'big', 'assess', 'glyph']"
   ]
  },
  {
   "cell_type": "code",
   "execution_count": 13,
   "id": "b430bc7d-b748-4f87-b3fe-85fc76ac8845",
   "metadata": {
    "tags": []
   },
   "outputs": [],
   "source": [
    "def pairwise_values(input_words):\n",
    "    \"\"\"\n",
    "    Takes a list of words and outputs the pairwise similarities between them\n",
    "    Input: list of words\n",
    "    Output: list of pairwise values [(i & i+1), (i & i+2), ..., (i+1 & i+2), ... (i+n-2 & i+n-1)]\n",
    "    \"\"\"\n",
    "    sims = []\n",
    "    for i in range(len(input_words)-1):\n",
    "        for j in range(len(input_words)-i-1):\n",
    "            word1 = input_words[i]\n",
    "            word2 = input_words[i+j+1]\n",
    "            sim = model.similarity(word1, word2)\n",
    "            sims.append(sim)\n",
    "        \n",
    "    return sims"
   ]
  }
 ],
 "metadata": {
  "kernelspec": {
   "display_name": "Python 3 (ipykernel)",
   "language": "python",
   "name": "python3"
  },
  "language_info": {
   "codemirror_mode": {
    "name": "ipython",
    "version": 3
   },
   "file_extension": ".py",
   "mimetype": "text/x-python",
   "name": "python",
   "nbconvert_exporter": "python",
   "pygments_lexer": "ipython3",
   "version": "3.11.4"
  }
 },
 "nbformat": 4,
 "nbformat_minor": 5
}
