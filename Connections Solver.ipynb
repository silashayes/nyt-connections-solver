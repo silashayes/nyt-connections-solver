{
 "cells": [
  {
   "cell_type": "code",
   "execution_count": 1,
   "id": "be208ee8-4b1a-406d-a5a9-a5c8f928211b",
   "metadata": {
    "tags": []
   },
   "outputs": [],
   "source": [
    "from gensim.models import KeyedVectors\n",
    "import numpy as np\n",
    "import pandas as pd\n",
    "from itertools import combinations"
   ]
  },
  {
   "cell_type": "markdown",
   "id": "8e594b20-feaa-4969-a05b-5760877e6925",
   "metadata": {},
   "source": [
    "https://stackoverflow.com/questions/21979970/how-to-use-word2vec-to-calculate-the-similarity-distance-by-giving-2-words\n",
    "\n",
    "https://radimrehurek.com/gensim/auto_examples/index.html#documentation\n",
    "\n",
    "https://fasttext.cc/docs/en/english-vectors.html\n",
    "\n",
    "https://hannibunny.github.io/nlpbook/05representations/01WordEmbeddingImplementation.html\n",
    "\n",
    "https://datascience.stackexchange.com/questions/12872/how-can-i-get-a-measure-of-the-semantic-similarity-of-words"
   ]
  },
  {
   "cell_type": "code",
   "execution_count": 2,
   "id": "3355e352-4338-46fb-b6f9-219f4b23f272",
   "metadata": {
    "tags": []
   },
   "outputs": [
    {
     "name": "stdout",
     "output_type": "stream",
     "text": [
      "CPU times: user 2min 6s, sys: 3.42 s, total: 2min 9s\n",
      "Wall time: 2min 10s\n"
     ]
    }
   ],
   "source": [
    "%%time\n",
    "model = KeyedVectors.load_word2vec_format('crawl-300d-2M.vec')"
   ]
  },
  {
   "cell_type": "markdown",
   "id": "648d3636-3af0-4ecb-9eb0-99767fc1a62b",
   "metadata": {},
   "source": [
    "Ways to measure:\n",
    "\n",
    "Convex hull volume\n",
    "\n",
    "Average Linkage: Maximize average similarity\n",
    "\n",
    "Complete Linkage: Maximize lowest similarity\n",
    "\n",
    "Single Linkage: Maximize highest similarity"
   ]
  },
  {
   "cell_type": "code",
   "execution_count": 3,
   "id": "eaaac7b1-2ae0-42f8-a9f5-07eadd6f05c5",
   "metadata": {
    "tags": []
   },
   "outputs": [],
   "source": [
    "def pairwise_values(input_words):\n",
    "    sims = []\n",
    "    for i in range(len(input_words)-1):\n",
    "        for j in range(len(input_words)-i-1):\n",
    "            word1 = input_words[i]\n",
    "            word2 = input_words[i+j+1]\n",
    "            sim = model.similarity(word1, word2)\n",
    "            sims.append(sim)\n",
    "        \n",
    "    return sims"
   ]
  },
  {
   "cell_type": "code",
   "execution_count": 4,
   "id": "49e46851-8d68-49fc-a61a-ed9249c0b236",
   "metadata": {
    "tags": []
   },
   "outputs": [],
   "source": [
    "def distance_metric(similarities, method=\"average\"):\n",
    "    if method==\"average\":\n",
    "        return np.mean(similarities)\n",
    "    elif method==\"complete\":\n",
    "        return min(similarities)\n",
    "    elif method==\"single\":\n",
    "        return max(similarities)\n",
    "    else:\n",
    "        raise ValueError(\"Method must be 'average', 'complete', or 'single'\")"
   ]
  },
  {
   "cell_type": "markdown",
   "id": "adb684d9-28f4-47a2-9605-f8390cc48932",
   "metadata": {},
   "source": [
    "Step 1:\n",
    "\n",
    "Find potential first group\n",
    "\n",
    "Step 2:\n",
    "\n",
    "Eliminate first four from total set\n",
    "\n",
    "Step 3:\n",
    "\n",
    "Find potential second group\n",
    "\n",
    "Step 4:\n",
    "\n",
    "Eliminate second four from total set\n",
    "\n",
    "Step 5:\n",
    "\n",
    "Find potential third (and therefore fourth) group\n",
    "\n",
    "Step 6:\n",
    "\n",
    "Calculate overall score of four groups (we want least similarity between groups/most dissimilarity or (less likely) highest within-group similarity)\n",
    "\n",
    "Step 7:\n",
    "\n",
    "Repeat with slightly different groups (maybe choose second-best and so on for potential first?)"
   ]
  },
  {
   "cell_type": "code",
   "execution_count": 5,
   "id": "dfc784cd-49e3-4650-a426-f8a9e4953200",
   "metadata": {
    "tags": []
   },
   "outputs": [],
   "source": [
    "def remove_combos(df, remove_words):\n",
    "    \"\"\"Input remove_words as a set\"\"\"\n",
    "    bool_series = df['combo'].apply(lambda x: False if len(set(x).intersection(remove_words)) > 0 else True) #this line can be more efficient\n",
    "    return df[bool_series]"
   ]
  },
  {
   "cell_type": "code",
   "execution_count": 6,
   "id": "e22e450b-c43f-4253-a322-9c8d1d6e9618",
   "metadata": {
    "tags": []
   },
   "outputs": [],
   "source": [
    "def keep_combos(group_df, guess):\n",
    "    \"\"\"Input a group dataframe and the correct guess, returns df with only possible combinations\"\"\"\n",
    "    bool_series = group_df['Groups'].apply(lambda x: any(t == guess for t in x))\n",
    "    return group_df[~bool_series]"
   ]
  },
  {
   "cell_type": "code",
   "execution_count": 7,
   "id": "173bb167-1815-4677-8afe-e9f70cfb205d",
   "metadata": {
    "tags": []
   },
   "outputs": [],
   "source": [
    "def score_groups(df, group_li, metric='average'):\n",
    "    score_df = df[df['combo'].isin(group_li)]\n",
    "    if metric==\"average\":\n",
    "        return np.mean(score_df['distance'])\n",
    "    if metric==\"min\":\n",
    "        return min(score_df['distance'])\n",
    "    elif metric==\"max\":\n",
    "        return max(score_df['distance'])\n",
    "    else:\n",
    "        raise ValueError(\"Method must be 'average', 'min', or 'max'\")"
   ]
  },
  {
   "cell_type": "code",
   "execution_count": 8,
   "id": "a0c93d6f-0fdd-4300-ba03-ab7fa391034c",
   "metadata": {
    "tags": []
   },
   "outputs": [],
   "source": [
    "def groupings_score(df, groups_correct=0, iterations=1, metric='average'):\n",
    "    group_scores = []\n",
    "    group_lists = []\n",
    "    iterations = min(len(df), iterations)\n",
    "    for i in range(iterations):\n",
    "        group_list = []\n",
    "        group1 = df.iloc[i]['combo']\n",
    "        group_list.append(group1)\n",
    "        \n",
    "        if groups_correct < 3:\n",
    "            df_no1 = remove_combos(df, set(group1)) #this line is creating an empty dataframe bc every line of the df has at least one of the words in set(group1)\n",
    "            #print(len(df_no1))\n",
    "            group2 = df_no1.iloc[0]['combo']\n",
    "            group_list.append(group2)\n",
    "            \n",
    "            if groups_correct < 2:\n",
    "                df_no2 = remove_combos(df_no1, set(group2))\n",
    "                group3 = df_no2.iloc[0]['combo']\n",
    "                group_list.append(group3)\n",
    "                \n",
    "                if groups_correct < 1:\n",
    "                    df_no3 = remove_combos(df_no2, set(group3))\n",
    "                    group4 = df_no3.iloc[0]['combo']\n",
    "                    group_list.append(group4)\n",
    "        \n",
    "        group_score = score_groups(df, group_list, metric)\n",
    "        \n",
    "        group_lists.append(group_list)\n",
    "        group_scores.append(group_score)\n",
    "        \n",
    "    group_df = pd.DataFrame({'Groups': group_lists, 'Score': group_scores}).sort_values('Score', ascending=False)\n",
    "    top_guess = group_df.iloc[0]['Groups'][0]\n",
    "    return top_guess, group_df"
   ]
  },
  {
   "cell_type": "code",
   "execution_count": 9,
   "id": "25747d26-7267-4167-8dc8-1976b6469d46",
   "metadata": {
    "tags": []
   },
   "outputs": [],
   "source": [
    "def combo_generator(word_list, words_per_class, distance=\"average\"):\n",
    "    combos = list(combinations(word_list, words_per_class))\n",
    "    df = pd.DataFrame({\"combo\": combos})\n",
    "    distances = []\n",
    "    for c in combos:\n",
    "        distances.append(distance_metric(pairwise_values(c), distance))\n",
    "    df['distance'] = distances\n",
    "    df = df.sort_values('distance', ascending=False)\n",
    "    return df"
   ]
  },
  {
   "cell_type": "code",
   "execution_count": 11,
   "id": "07bc18e8-a48d-490c-aee5-34461fa9b78a",
   "metadata": {
    "tags": []
   },
   "outputs": [],
   "source": [
    "def optimizer(word_list, words_per_class=4, distance=\"average\", metric=\"average\", iterations=1):\n",
    "    \n",
    "    ### Generates word combinations and assesses their collective pairwise distances based on the chosen distance metric\n",
    "    df0 = combo_generator(word_list, words_per_class) #Generate the 1820 combos\n",
    "    \n",
    "    ### Greedy algorithm for choosing best groupings\n",
    "    guess, group_df0 = groupings_score(df0, num_correct, iterations, metric) #Generate the top [iterations] number of groupings of combos out of 63,063,000 possible\n",
    "    \n",
    "    ### Information-Based Optimizer\n",
    "    num_correct = 0\n",
    "    print(f\"Guess: {guess}\")\n",
    "    info_df = pd.DataFrame(columns=['Guess', 'Feedback'])\n",
    "    while num_correct < 4:\n",
    "        feedback = int(input(\"Feedback: Input 4 if all 4 were correct, 3 if 3 were correct, 2 if 2 were correct, 0 if no feedback received, -1 if fail\"))\n",
    "        if feedback==4: #increment num_correct, add to info_df, generate new (smaller) word_list by removing guessed words, generate new groupings dataframe out of (34,650|70|1) possible\n",
    "            num_correct += 1\n",
    "            info_df = info_df.append({'Guess': guess, 'Feedback': 4})\n",
    "            if num_correct == 4:\n",
    "                print(\"Solved!\")\n",
    "                break\n",
    "            word_list = list(set(word_list) - set(guess))\n",
    "            df = combo_generator(word_list, words_per_class)\n",
    "            print(len(df))\n",
    "            guess, group_df = groupings_score(df, num_correct, iterations, metric)\n",
    "            \n",
    "        elif feedback==3: #this one isn't working\n",
    "            #this will need to factor in the possibility of getting 3 right and then 3 right again\n",
    "            info_df = info_df.append({'Guess': guess, 'Feedback': 3})\n",
    "            \n",
    "            choose3 = list(combinations(guess, 3))\n",
    "            remaining = list(set(word_list) - set(guess))\n",
    "            next_options = []\n",
    "            for g in choose3:\n",
    "                for w in remaining:\n",
    "                    next_option = tuple(list(g) + [w])\n",
    "                    next_options.append(next_option)\n",
    "\n",
    "            # groups3_df = group_df[group_df['Groups'].apply(lambda x: any(sorted(item) in [sorted(t) for t in next_options] for item in x))]\n",
    "            # guess = groups3_df.iloc[0]['Groups'][0]\n",
    "            df = combo_generator(word_list, words_per_class)\n",
    "            guess, group_df = groupings_score(df, num_correct, iterations, metric)\n",
    "            group_df = group_df[group_df['Groups'].apply(lambda x: any(sorted(item) in [sorted(t) for t in next_options] for item in x))]\n",
    "            guess = group_df.iloc[0]['Groups'][0]\n",
    "            \n",
    "        elif feedback==2: #haven't edited this one\n",
    "            choose2 = list(combinations(guess, 2))\n",
    "            remaining = list(set(word_list) - set(guess))\n",
    "            remaining_words = list(combinations(remaining, 2))\n",
    "            next_options = []\n",
    "            for g in choose2:\n",
    "                for w in remaining_words:\n",
    "                    next_option = g + tuple(w)\n",
    "                    next_options.append(next_option)\n",
    "            groups2_df = group_df[group_df['Groups'].apply(lambda x: any(sorted(item) in [sorted(t) for t in next_options] for item in x))]\n",
    "            guess = groups2_df.iloc[0]['Groups'][0]\n",
    "            \n",
    "        elif feedback==0: #could be 2 + 2, could be 2 + 1 + 1, could be 1 + 1 + 1 + 1 but we don't know\n",
    "            guess = group_df.iloc[guess_num]['Groups'][0]\n",
    "            \n",
    "        else:\n",
    "            print(\"Sad.\")\n",
    "            break\n",
    "        guess_num += 1\n",
    "        print(f\"Guess: {guess}\")\n",
    "    print(\"Yay.\")\n",
    "    \n",
    "    \n",
    "    return None\n"
   ]
  },
  {
   "cell_type": "code",
   "execution_count": 278,
   "id": "abfaf2eb-a5de-44d1-93af-cc97957a4ed0",
   "metadata": {
    "tags": []
   },
   "outputs": [
    {
     "data": {
      "text/html": [
       "<div>\n",
       "<style scoped>\n",
       "    .dataframe tbody tr th:only-of-type {\n",
       "        vertical-align: middle;\n",
       "    }\n",
       "\n",
       "    .dataframe tbody tr th {\n",
       "        vertical-align: top;\n",
       "    }\n",
       "\n",
       "    .dataframe thead th {\n",
       "        text-align: right;\n",
       "    }\n",
       "</style>\n",
       "<table border=\"1\" class=\"dataframe\">\n",
       "  <thead>\n",
       "    <tr style=\"text-align: right;\">\n",
       "      <th></th>\n",
       "      <th>combo</th>\n",
       "      <th>distance</th>\n",
       "    </tr>\n",
       "  </thead>\n",
       "  <tbody>\n",
       "    <tr>\n",
       "      <th>1550</th>\n",
       "      <td>(icon, legend, symbol, glyph)</td>\n",
       "      <td>0.408283</td>\n",
       "    </tr>\n",
       "    <tr>\n",
       "      <th>1535</th>\n",
       "      <td>(icon, legend, character, symbol)</td>\n",
       "      <td>0.384329</td>\n",
       "    </tr>\n",
       "    <tr>\n",
       "      <th>1586</th>\n",
       "      <td>(icon, character, symbol, glyph)</td>\n",
       "      <td>0.371889</td>\n",
       "    </tr>\n",
       "    <tr>\n",
       "      <th>1494</th>\n",
       "      <td>(icon, popular, legend, symbol)</td>\n",
       "      <td>0.360979</td>\n",
       "    </tr>\n",
       "    <tr>\n",
       "      <th>1538</th>\n",
       "      <td>(icon, legend, character, glyph)</td>\n",
       "      <td>0.332129</td>\n",
       "    </tr>\n",
       "    <tr>\n",
       "      <th>...</th>\n",
       "      <td>...</td>\n",
       "      <td>...</td>\n",
       "    </tr>\n",
       "    <tr>\n",
       "      <th>1700</th>\n",
       "      <td>(legend, hot, lipid, levy)</td>\n",
       "      <td>0.069065</td>\n",
       "    </tr>\n",
       "    <tr>\n",
       "      <th>1405</th>\n",
       "      <td>(fine, popular, assess, glyph)</td>\n",
       "      <td>0.068898</td>\n",
       "    </tr>\n",
       "    <tr>\n",
       "      <th>1703</th>\n",
       "      <td>(legend, hot, lipid, assess)</td>\n",
       "      <td>0.063975</td>\n",
       "    </tr>\n",
       "    <tr>\n",
       "      <th>624</th>\n",
       "      <td>(hippo, fine, legend, assess)</td>\n",
       "      <td>0.063751</td>\n",
       "    </tr>\n",
       "    <tr>\n",
       "      <th>649</th>\n",
       "      <td>(hippo, fine, symbol, assess)</td>\n",
       "      <td>0.052874</td>\n",
       "    </tr>\n",
       "  </tbody>\n",
       "</table>\n",
       "<p>1820 rows × 2 columns</p>\n",
       "</div>"
      ],
      "text/plain": [
       "                                  combo  distance\n",
       "1550      (icon, legend, symbol, glyph)  0.408283\n",
       "1535  (icon, legend, character, symbol)  0.384329\n",
       "1586   (icon, character, symbol, glyph)  0.371889\n",
       "1494    (icon, popular, legend, symbol)  0.360979\n",
       "1538   (icon, legend, character, glyph)  0.332129\n",
       "...                                 ...       ...\n",
       "1700         (legend, hot, lipid, levy)  0.069065\n",
       "1405     (fine, popular, assess, glyph)  0.068898\n",
       "1703       (legend, hot, lipid, assess)  0.063975\n",
       "624       (hippo, fine, legend, assess)  0.063751\n",
       "649       (hippo, fine, symbol, assess)  0.052874\n",
       "\n",
       "[1820 rows x 2 columns]"
      ]
     },
     "execution_count": 278,
     "metadata": {},
     "output_type": "execute_result"
    }
   ],
   "source": [
    "combo_t = combo_generator(today, 4)\n",
    "combo_t['combo'].apply(lambda x: sorted(x) in [sorted(t) for t in next_options])"
   ]
  },
  {
   "cell_type": "code",
   "execution_count": 13,
   "id": "36ce5bff-b88d-4292-abb7-2ea99db0a5be",
   "metadata": {
    "tags": []
   },
   "outputs": [],
   "source": [
    "today = ['handsome', 'hippo', 'in', 'charge',\n",
    "        'fine', 'icon', 'popular', 'legend',\n",
    "        'hot', 'character', 'lipid', 'levy',\n",
    "        'symbol', 'big', 'assess', 'glyph']"
   ]
  },
  {
   "cell_type": "code",
   "execution_count": 9,
   "id": "8b5fc2bf-7cb9-4c88-99d9-06aaa54e7e15",
   "metadata": {
    "tags": []
   },
   "outputs": [],
   "source": [
    "dec14 = ['fox', 'screen', 'lining', 'spoon',\n",
    "        'split', 'divide', 'fork', 'part',\n",
    "        'badger', 'bug', 'hound', 'nag',\n",
    "        'arena', 'field', 'dome', 'bowl']"
   ]
  },
  {
   "cell_type": "code",
   "execution_count": 14,
   "id": "d8db731e-66c0-48a5-829f-1ed737c5c596",
   "metadata": {
    "tags": []
   },
   "outputs": [
    {
     "name": "stdout",
     "output_type": "stream",
     "text": [
      "Guess: ('icon', 'legend', 'symbol', 'glyph')\n"
     ]
    },
    {
     "name": "stdin",
     "output_type": "stream",
     "text": [
      "Feedback: Input 4 if all 4 were correct, 3 if 3 were correct, 2 if 2 were correct, 0 if no feedback received, -1 if fail 4\n"
     ]
    },
    {
     "name": "stdout",
     "output_type": "stream",
     "text": [
      "495\n",
      "Guess: ('popular', 'handsome', 'hot', 'big')\n"
     ]
    },
    {
     "name": "stdin",
     "output_type": "stream",
     "text": [
      "Feedback: Input 4 if all 4 were correct, 3 if 3 were correct, 2 if 2 were correct, 0 if no feedback received, -1 if fail 4\n"
     ]
    },
    {
     "name": "stdout",
     "output_type": "stream",
     "text": [
      "70\n",
      "Guess: ('fine', 'assess', 'charge', 'levy')\n"
     ]
    },
    {
     "name": "stdin",
     "output_type": "stream",
     "text": [
      "Feedback: Input 4 if all 4 were correct, 3 if 3 were correct, 2 if 2 were correct, 0 if no feedback received, -1 if fail 4\n"
     ]
    },
    {
     "name": "stdout",
     "output_type": "stream",
     "text": [
      "1\n",
      "Guess: ('hippo', 'lipid', 'character', 'in')\n"
     ]
    },
    {
     "name": "stdin",
     "output_type": "stream",
     "text": [
      "Feedback: Input 4 if all 4 were correct, 3 if 3 were correct, 2 if 2 were correct, 0 if no feedback received, -1 if fail 4\n"
     ]
    },
    {
     "name": "stdout",
     "output_type": "stream",
     "text": [
      "Solved!\n",
      "Yay.\n"
     ]
    }
   ],
   "source": [
    "optimizer(today, distance=\"complete\", metric=\"max\", iterations=500)"
   ]
  },
  {
   "cell_type": "code",
   "execution_count": 60,
   "id": "327cfd01-fa78-481d-8bab-44302189565f",
   "metadata": {
    "tags": []
   },
   "outputs": [
    {
     "data": {
      "text/html": [
       "<div>\n",
       "<style scoped>\n",
       "    .dataframe tbody tr th:only-of-type {\n",
       "        vertical-align: middle;\n",
       "    }\n",
       "\n",
       "    .dataframe tbody tr th {\n",
       "        vertical-align: top;\n",
       "    }\n",
       "\n",
       "    .dataframe thead th {\n",
       "        text-align: right;\n",
       "    }\n",
       "</style>\n",
       "<table border=\"1\" class=\"dataframe\">\n",
       "  <thead>\n",
       "    <tr style=\"text-align: right;\">\n",
       "      <th></th>\n",
       "      <th>Groups</th>\n",
       "      <th>Score</th>\n",
       "    </tr>\n",
       "  </thead>\n",
       "  <tbody>\n",
       "    <tr>\n",
       "      <th>0</th>\n",
       "      <td>[(icon, character, symbol, glyph), (handsome, ...</td>\n",
       "      <td>0.181978</td>\n",
       "    </tr>\n",
       "    <tr>\n",
       "      <th>1</th>\n",
       "      <td>[(handsome, popular, hot, big), (icon, charact...</td>\n",
       "      <td>0.181978</td>\n",
       "    </tr>\n",
       "    <tr>\n",
       "      <th>35</th>\n",
       "      <td>[(in, charge, lipid, assess), (icon, character...</td>\n",
       "      <td>0.181978</td>\n",
       "    </tr>\n",
       "    <tr>\n",
       "      <th>38</th>\n",
       "      <td>[(charge, lipid, levy, assess), (icon, charact...</td>\n",
       "      <td>0.180525</td>\n",
       "    </tr>\n",
       "    <tr>\n",
       "      <th>4</th>\n",
       "      <td>[(icon, legend, symbol, glyph), (handsome, pop...</td>\n",
       "      <td>0.173597</td>\n",
       "    </tr>\n",
       "  </tbody>\n",
       "</table>\n",
       "</div>"
      ],
      "text/plain": [
       "                                               Groups     Score\n",
       "0   [(icon, character, symbol, glyph), (handsome, ...  0.181978\n",
       "1   [(handsome, popular, hot, big), (icon, charact...  0.181978\n",
       "35  [(in, charge, lipid, assess), (icon, character...  0.181978\n",
       "38  [(charge, lipid, levy, assess), (icon, charact...  0.180525\n",
       "4   [(icon, legend, symbol, glyph), (handsome, pop...  0.173597"
      ]
     },
     "execution_count": 60,
     "metadata": {},
     "output_type": "execute_result"
    }
   ],
   "source": [
    "groups_t.head()"
   ]
  },
  {
   "cell_type": "code",
   "execution_count": 47,
   "id": "2478c106-ef30-4d81-bab5-3d097cd843c9",
   "metadata": {
    "tags": []
   },
   "outputs": [
    {
     "data": {
      "text/plain": [
       "[('icon', 'character', 'symbol', 'assess'),\n",
       " ('icon', 'character', 'symbol', 'hippo'),\n",
       " ('icon', 'character', 'symbol', 'popular'),\n",
       " ('icon', 'character', 'symbol', 'in'),\n",
       " ('icon', 'character', 'symbol', 'lipid')]"
      ]
     },
     "execution_count": 47,
     "metadata": {},
     "output_type": "execute_result"
    }
   ],
   "source": [
    "options_t[0:5]"
   ]
  },
  {
   "cell_type": "code",
   "execution_count": 59,
   "id": "f50e5742-a3d6-4d9f-9579-f6cb489d7aa9",
   "metadata": {
    "tags": []
   },
   "outputs": [
    {
     "data": {
      "text/html": [
       "<div>\n",
       "<style scoped>\n",
       "    .dataframe tbody tr th:only-of-type {\n",
       "        vertical-align: middle;\n",
       "    }\n",
       "\n",
       "    .dataframe tbody tr th {\n",
       "        vertical-align: top;\n",
       "    }\n",
       "\n",
       "    .dataframe thead th {\n",
       "        text-align: right;\n",
       "    }\n",
       "</style>\n",
       "<table border=\"1\" class=\"dataframe\">\n",
       "  <thead>\n",
       "    <tr style=\"text-align: right;\">\n",
       "      <th></th>\n",
       "      <th>Groups</th>\n",
       "      <th>Score</th>\n",
       "    </tr>\n",
       "  </thead>\n",
       "  <tbody>\n",
       "    <tr>\n",
       "      <th>4</th>\n",
       "      <td>[(icon, legend, symbol, glyph), (handsome, pop...</td>\n",
       "      <td>0.173597</td>\n",
       "    </tr>\n",
       "    <tr>\n",
       "      <th>3</th>\n",
       "      <td>[(legend, character, symbol, glyph), (handsome...</td>\n",
       "      <td>0.173597</td>\n",
       "    </tr>\n",
       "    <tr>\n",
       "      <th>2</th>\n",
       "      <td>[(icon, legend, character, symbol), (handsome,...</td>\n",
       "      <td>0.173059</td>\n",
       "    </tr>\n",
       "    <tr>\n",
       "      <th>159</th>\n",
       "      <td>[(in, fine, character, assess), (handsome, pop...</td>\n",
       "      <td>0.168559</td>\n",
       "    </tr>\n",
       "    <tr>\n",
       "      <th>123</th>\n",
       "      <td>[(in, charge, character, assess), (handsome, p...</td>\n",
       "      <td>0.167978</td>\n",
       "    </tr>\n",
       "    <tr>\n",
       "      <th>...</th>\n",
       "      <td>...</td>\n",
       "      <td>...</td>\n",
       "    </tr>\n",
       "    <tr>\n",
       "      <th>489</th>\n",
       "      <td>[(fine, icon, legend, hot), (in, charge, lipid...</td>\n",
       "      <td>0.099756</td>\n",
       "    </tr>\n",
       "    <tr>\n",
       "      <th>91</th>\n",
       "      <td>[(popular, legend, character, big), (in, charg...</td>\n",
       "      <td>0.096373</td>\n",
       "    </tr>\n",
       "    <tr>\n",
       "      <th>84</th>\n",
       "      <td>[(handsome, legend, character, big), (in, char...</td>\n",
       "      <td>0.096373</td>\n",
       "    </tr>\n",
       "    <tr>\n",
       "      <th>408</th>\n",
       "      <td>[(icon, hot, character, glyph), (handsome, pop...</td>\n",
       "      <td>0.093658</td>\n",
       "    </tr>\n",
       "    <tr>\n",
       "      <th>498</th>\n",
       "      <td>[(fine, icon, legend, big), (in, charge, lipid...</td>\n",
       "      <td>0.086782</td>\n",
       "    </tr>\n",
       "  </tbody>\n",
       "</table>\n",
       "<p>234 rows × 2 columns</p>\n",
       "</div>"
      ],
      "text/plain": [
       "                                                Groups     Score\n",
       "4    [(icon, legend, symbol, glyph), (handsome, pop...  0.173597\n",
       "3    [(legend, character, symbol, glyph), (handsome...  0.173597\n",
       "2    [(icon, legend, character, symbol), (handsome,...  0.173059\n",
       "159  [(in, fine, character, assess), (handsome, pop...  0.168559\n",
       "123  [(in, charge, character, assess), (handsome, p...  0.167978\n",
       "..                                                 ...       ...\n",
       "489  [(fine, icon, legend, hot), (in, charge, lipid...  0.099756\n",
       "91   [(popular, legend, character, big), (in, charg...  0.096373\n",
       "84   [(handsome, legend, character, big), (in, char...  0.096373\n",
       "408  [(icon, hot, character, glyph), (handsome, pop...  0.093658\n",
       "498  [(fine, icon, legend, big), (in, charge, lipid...  0.086782\n",
       "\n",
       "[234 rows x 2 columns]"
      ]
     },
     "execution_count": 59,
     "metadata": {},
     "output_type": "execute_result"
    }
   ],
   "source": [
    "groups_t[groups_t['Groups'].apply(lambda x: any(sorted(item) in [sorted(t) for t in options_t] for item in x))]"
   ]
  },
  {
   "cell_type": "code",
   "execution_count": null,
   "id": "3019dfa8-8479-417e-8de8-1d130013d6a3",
   "metadata": {},
   "outputs": [],
   "source": [
    "any(sorted(item) in [sorted(t) for t in target_tuples] for item in x)"
   ]
  },
  {
   "cell_type": "code",
   "execution_count": 24,
   "id": "b629c730-01fc-4322-8fa6-55b8d9770d33",
   "metadata": {
    "tags": []
   },
   "outputs": [
    {
     "data": {
      "text/plain": [
       "['assess',\n",
       " 'hippo',\n",
       " 'popular',\n",
       " 'in',\n",
       " 'lipid',\n",
       " 'big',\n",
       " 'fine',\n",
       " 'levy',\n",
       " 'hot',\n",
       " 'legend',\n",
       " 'handsome',\n",
       " 'charge']"
      ]
     },
     "execution_count": 24,
     "metadata": {},
     "output_type": "execute_result"
    }
   ],
   "source": [
    "list(set(words_t) - set(('icon', 'character', 'symbol', 'glyph')))"
   ]
  },
  {
   "cell_type": "code",
   "execution_count": 15,
   "id": "baa54411-d6b4-4f86-bc9a-3ee188e0111a",
   "metadata": {
    "tags": []
   },
   "outputs": [
    {
     "data": {
      "text/plain": [
       "[(('icon', 'character', 'symbol'), 'handsome'),\n",
       " (('icon', 'character', 'symbol'), 'hippo'),\n",
       " ('handsome', 'hippo')]"
      ]
     },
     "execution_count": 15,
     "metadata": {},
     "output_type": "execute_result"
    }
   ],
   "source": [
    "list(combinations([('icon', 'character', 'symbol'), 'handsome', 'hippo'], 2))"
   ]
  },
  {
   "cell_type": "code",
   "execution_count": null,
   "id": "fe129656-e220-4296-b89f-f70e85ec8d08",
   "metadata": {},
   "outputs": [],
   "source": []
  }
 ],
 "metadata": {
  "kernelspec": {
   "display_name": "Python 3 (ipykernel)",
   "language": "python",
   "name": "python3"
  },
  "language_info": {
   "codemirror_mode": {
    "name": "ipython",
    "version": 3
   },
   "file_extension": ".py",
   "mimetype": "text/x-python",
   "name": "python",
   "nbconvert_exporter": "python",
   "pygments_lexer": "ipython3",
   "version": "3.11.4"
  }
 },
 "nbformat": 4,
 "nbformat_minor": 5
}
