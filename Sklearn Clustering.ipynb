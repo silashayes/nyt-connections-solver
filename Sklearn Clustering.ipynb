{
 "cells": [
  {
   "cell_type": "markdown",
   "id": "b10376a4-afb5-454f-961d-9298d90347ab",
   "metadata": {},
   "source": [
    "# Clustering Algorithms from Sklearn"
   ]
  },
  {
   "cell_type": "code",
   "execution_count": 1,
   "id": "b33408d2-4c9f-466d-9b45-07fcfe7c87bf",
   "metadata": {
    "tags": []
   },
   "outputs": [],
   "source": [
    "from gensim.models import KeyedVectors\n",
    "import numpy as np\n",
    "import pandas as pd\n",
    "from itertools import combinations"
   ]
  },
  {
   "cell_type": "markdown",
   "id": "41490e1a-277e-4437-8a3c-e95c2b789a36",
   "metadata": {},
   "source": [
    "https://stackoverflow.com/questions/21979970/how-to-use-word2vec-to-calculate-the-similarity-distance-by-giving-2-words\n",
    "\n",
    "https://radimrehurek.com/gensim/auto_examples/index.html#documentation\n",
    "\n",
    "https://fasttext.cc/docs/en/english-vectors.html\n",
    "\n",
    "https://hannibunny.github.io/nlpbook/05representations/01WordEmbeddingImplementation.html\n",
    "\n",
    "https://datascience.stackexchange.com/questions/12872/how-can-i-get-a-measure-of-the-semantic-similarity-of-words"
   ]
  },
  {
   "cell_type": "code",
   "execution_count": 2,
   "id": "2f887389-5074-49d1-9f49-a1fe5e7bf24a",
   "metadata": {
    "tags": []
   },
   "outputs": [
    {
     "name": "stdout",
     "output_type": "stream",
     "text": [
      "CPU times: user 2min 5s, sys: 2.52 s, total: 2min 8s\n",
      "Wall time: 2min 9s\n"
     ]
    }
   ],
   "source": [
    "%%time\n",
    "model = KeyedVectors.load_word2vec_format('../crawl-300d-2M.vec')"
   ]
  },
  {
   "cell_type": "code",
   "execution_count": 4,
   "id": "1eac3a62-0edf-4de3-ae9d-17305b7cb327",
   "metadata": {
    "tags": []
   },
   "outputs": [],
   "source": [
    "today = ['handsome', 'hippo', 'in', 'charge',\n",
    "        'fine', 'icon', 'popular', 'legend',\n",
    "        'hot', 'character', 'lipid', 'levy',\n",
    "        'symbol', 'big', 'assess', 'glyph']"
   ]
  },
  {
   "cell_type": "code",
   "execution_count": 11,
   "id": "254b973a-1cc5-49c6-82f3-7aec36b98bed",
   "metadata": {
    "tags": []
   },
   "outputs": [],
   "source": [
    "distances = []\n",
    "for word in today:\n",
    "    distances.append(list(model[word]))"
   ]
  },
  {
   "cell_type": "code",
   "execution_count": 28,
   "id": "8182be34-4ad8-4d40-9c4a-d1a533401036",
   "metadata": {
    "tags": []
   },
   "outputs": [
    {
     "data": {
      "text/plain": [
       "[2, 0, 3, 1, 2, 0, 2, 0, 2, 0, 0, 1, 0, 2, 1, 0]"
      ]
     },
     "execution_count": 28,
     "metadata": {},
     "output_type": "execute_result"
    }
   ],
   "source": [
    "from sklearn.cluster import AgglomerativeClustering\n",
    "clustering = AgglomerativeClustering(n_clusters=4, metric=\"cosine\", linkage=\"average\", compute_distances=True).fit(distances)\n",
    "groups = list(clustering.labels_)\n",
    "groups"
   ]
  },
  {
   "cell_type": "code",
   "execution_count": 29,
   "id": "c6b17d58-ef2e-4e44-bfd3-1d42c04bae38",
   "metadata": {
    "tags": []
   },
   "outputs": [
    {
     "data": {
      "text/plain": [
       "[('handsome', 2),\n",
       " ('hippo', 0),\n",
       " ('in', 3),\n",
       " ('charge', 1),\n",
       " ('fine', 2),\n",
       " ('icon', 0),\n",
       " ('popular', 2),\n",
       " ('legend', 0),\n",
       " ('hot', 2),\n",
       " ('character', 0),\n",
       " ('lipid', 0),\n",
       " ('levy', 1),\n",
       " ('symbol', 0),\n",
       " ('big', 2),\n",
       " ('assess', 1),\n",
       " ('glyph', 0)]"
      ]
     },
     "execution_count": 29,
     "metadata": {},
     "output_type": "execute_result"
    }
   ],
   "source": [
    "[(word, group) for word, group in zip(today, groups)]"
   ]
  }
 ],
 "metadata": {
  "kernelspec": {
   "display_name": "Python 3 (ipykernel)",
   "language": "python",
   "name": "python3"
  },
  "language_info": {
   "codemirror_mode": {
    "name": "ipython",
    "version": 3
   },
   "file_extension": ".py",
   "mimetype": "text/x-python",
   "name": "python",
   "nbconvert_exporter": "python",
   "pygments_lexer": "ipython3",
   "version": "3.11.4"
  }
 },
 "nbformat": 4,
 "nbformat_minor": 5
}
